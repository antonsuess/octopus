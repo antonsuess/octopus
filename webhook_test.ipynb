{
 "cells": [
  {
   "cell_type": "code",
   "execution_count": 2,
   "metadata": {},
   "outputs": [
    {
     "name": "stdout",
     "output_type": "stream",
     "text": [
      "Message posted successfully\n"
     ]
    }
   ],
   "source": [
    "import requests\n",
    "import json\n",
    "\n",
    "def post_message_to_teams(webhook_url, message):\n",
    "    headers = {\n",
    "        \"Content-Type\": \"application/json\"\n",
    "    }\n",
    "    payload = {\n",
    "        \"@context\": \"https://schema.org/extensions\",\n",
    "        \"@type\": \"MessageCard\",\n",
    "        \"themeColor\": \"0076D7\",\n",
    "        \"title\": \"Notification from Python script\",\n",
    "        \"text\": message\n",
    "    }\n",
    "    response = requests.post(webhook_url, headers=headers, data=json.dumps(payload))\n",
    "    return response.status_code\n",
    "\n",
    "# Replace with your Microsoft Teams Webhook URL\n",
    "webhook_url = \"https://soenergygroup.webhook.office.com/webhookb2/86596e1c-ed69-4d04-aaa7-4bc465541a85@2fd125f7-d450-4fdb-986d-a48296918cbb/IncomingWebhook/9311fc899c9f40ca80964e05c1ba411b/6fcd8dcf-a081-4cb0-afec-ddeb92336214\"\n",
    "message = \"Hello, this is a test message from Python `script` for **Danny**!\"\n",
    "status_code = post_message_to_teams(webhook_url, message)\n",
    "\n",
    "if status_code == 200:\n",
    "    print(\"Message posted successfully\")\n",
    "else:\n",
    "    print(f\"Failed to post message, status code: {status_code}\")"
   ]
  }
 ],
 "metadata": {
  "kernelspec": {
   "display_name": "Python 3",
   "language": "python",
   "name": "python3"
  },
  "language_info": {
   "codemirror_mode": {
    "name": "ipython",
    "version": 3
   },
   "file_extension": ".py",
   "mimetype": "text/x-python",
   "name": "python",
   "nbconvert_exporter": "python",
   "pygments_lexer": "ipython3",
   "version": "3.10.11"
  }
 },
 "nbformat": 4,
 "nbformat_minor": 2
}
